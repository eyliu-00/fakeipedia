{
  "nbformat": 4,
  "nbformat_minor": 0,
  "metadata": {
    "colab": {
      "name": "Copy of Train a GPT-2 Text-Generating Model w/ GPU",
      "provenance": [],
      "collapsed_sections": [],
      "toc_visible": true
    },
    "kernelspec": {
      "name": "python3",
      "display_name": "Python 3"
    },
    "accelerator": "GPU"
  },
  "cells": [
    {
      "cell_type": "markdown",
      "metadata": {
        "id": "H7LoMj4GA4n_",
        "colab_type": "text"
      },
      "source": [
        "#  Train a GPT-2 Text-Generating Model w/ GPU For Free \n",
        "\n",
        "by [Max Woolf](http://minimaxir.com)\n",
        "\n",
        "*Last updated: November 10th, 2019*\n",
        "\n",
        "Retrain an advanced text generating neural network on any text dataset **for free on a GPU using Collaboratory** using `gpt-2-simple`!\n",
        "\n",
        "For more about `gpt-2-simple`, you can visit [this GitHub repository](https://github.com/minimaxir/gpt-2-simple). You can also read my [blog post](https://minimaxir.com/2019/09/howto-gpt2/) for more information how to use this notebook!\n",
        "\n",
        "\n",
        "To get started:\n",
        "\n",
        "1. Copy this notebook to your Google Drive to keep it and save your changes. (File -> Save a Copy in Drive)\n",
        "2. Make sure you're running the notebook in Google Chrome.\n",
        "3. Run the cells below:\n"
      ]
    },
    {
      "cell_type": "code",
      "metadata": {
        "id": "KBkpRgBCBS2_",
        "colab_type": "code",
        "outputId": "1eb4cc22-ae8e-4b17-8dd2-308c04408686",
        "colab": {
          "base_uri": "https://localhost:8080/",
          "height": 153
        }
      },
      "source": [
        "%tensorflow_version 1.x\n",
        "!pip install -q gpt-2-simple\n",
        "import gpt_2_simple as gpt2\n",
        "from datetime import datetime\n",
        "from google.colab import files"
      ],
      "execution_count": 1,
      "outputs": [
        {
          "output_type": "stream",
          "text": [
            "WARNING:tensorflow:\n",
            "The TensorFlow contrib module will not be included in TensorFlow 2.0.\n",
            "For more information, please see:\n",
            "  * https://github.com/tensorflow/community/blob/master/rfcs/20180907-contrib-sunset.md\n",
            "  * https://github.com/tensorflow/addons\n",
            "  * https://github.com/tensorflow/io (for I/O related ops)\n",
            "If you depend on functionality not listed there, please file an issue.\n",
            "\n"
          ],
          "name": "stdout"
        }
      ]
    },
    {
      "cell_type": "markdown",
      "metadata": {
        "id": "Bj2IJLHP3KwE",
        "colab_type": "text"
      },
      "source": [
        "## GPU\n",
        "\n",
        "Colaboratory uses either a Nvidia T4 GPU or an Nvidia K80 GPU. The T4 is slightly faster than the old K80 for training GPT-2, and has more memory allowing you to train the larger GPT-2 models and generate more text.\n",
        "\n",
        "You can verify which GPU is active by running the cell below."
      ]
    },
    {
      "cell_type": "code",
      "metadata": {
        "id": "sUmTooTW3osf",
        "colab_type": "code",
        "outputId": "dfae3760-dde1-4254-dd8c-e584ffac1eb7",
        "colab": {
          "base_uri": "https://localhost:8080/",
          "height": 306
        }
      },
      "source": [
        "!nvidia-smi"
      ],
      "execution_count": 0,
      "outputs": [
        {
          "output_type": "stream",
          "text": [
            "Sat Feb 15 10:30:05 2020       \n",
            "+-----------------------------------------------------------------------------+\n",
            "| NVIDIA-SMI 440.48.02    Driver Version: 418.67       CUDA Version: 10.1     |\n",
            "|-------------------------------+----------------------+----------------------+\n",
            "| GPU  Name        Persistence-M| Bus-Id        Disp.A | Volatile Uncorr. ECC |\n",
            "| Fan  Temp  Perf  Pwr:Usage/Cap|         Memory-Usage | GPU-Util  Compute M. |\n",
            "|===============================+======================+======================|\n",
            "|   0  Tesla P100-PCIE...  Off  | 00000000:00:04.0 Off |                    0 |\n",
            "| N/A   35C    P0    25W / 250W |      0MiB / 16280MiB |      0%      Default |\n",
            "+-------------------------------+----------------------+----------------------+\n",
            "                                                                               \n",
            "+-----------------------------------------------------------------------------+\n",
            "| Processes:                                                       GPU Memory |\n",
            "|  GPU       PID   Type   Process name                             Usage      |\n",
            "|=============================================================================|\n",
            "|  No running processes found                                                 |\n",
            "+-----------------------------------------------------------------------------+\n"
          ],
          "name": "stdout"
        }
      ]
    },
    {
      "cell_type": "markdown",
      "metadata": {
        "id": "0wXB05bPDYxS",
        "colab_type": "text"
      },
      "source": [
        "## Downloading GPT-2\n",
        "\n",
        "If you're retraining a model on new text, you need to download the GPT-2 model first. \n",
        "\n",
        "There are three released sizes of GPT-2:\n",
        "\n",
        "* `124M` (default): the \"small\" model, 500MB on disk.\n",
        "* `355M`: the \"medium\" model, 1.5GB on disk.\n",
        "* `774M`: the \"large\" model, cannot currently be finetuned with Colaboratory but can be used to generate text from the pretrained model (see later in Notebook)\n",
        "* `1558M`: the \"extra large\", true model. Will not work if a K80 GPU is attached to the notebook. (like `774M`, it cannot be finetuned).\n",
        "\n",
        "Larger models have more knowledge, but take longer to finetune and longer to generate text. You can specify which base model to use by changing `model_name` in the cells below.\n",
        "\n",
        "The next cell downloads it from Google Cloud Storage and saves it in the Colaboratory VM at `/models/<model_name>`.\n",
        "\n",
        "This model isn't permanently saved in the Colaboratory VM; you'll have to redownload it if you want to retrain it at a later time."
      ]
    },
    {
      "cell_type": "code",
      "metadata": {
        "id": "P8wSlgXoDPCR",
        "colab_type": "code",
        "outputId": "3f0e10ec-a640-4163-ab0d-38927e7f9eaf",
        "colab": {
          "base_uri": "https://localhost:8080/",
          "height": 136
        }
      },
      "source": [
        "gpt2.download_gpt2(model_name=\"124M\")"
      ],
      "execution_count": 2,
      "outputs": [
        {
          "output_type": "stream",
          "text": [
            "Fetching checkpoint: 1.05Mit [00:00, 295Mit/s]                                                      \n",
            "Fetching encoder.json: 1.05Mit [00:00, 80.3Mit/s]                                                   \n",
            "Fetching hparams.json: 1.05Mit [00:00, 537Mit/s]                                                    \n",
            "Fetching model.ckpt.data-00000-of-00001: 498Mit [00:02, 212Mit/s]                                   \n",
            "Fetching model.ckpt.index: 1.05Mit [00:00, 247Mit/s]                                                \n",
            "Fetching model.ckpt.meta: 1.05Mit [00:00, 140Mit/s]                                                 \n",
            "Fetching vocab.bpe: 1.05Mit [00:00, 165Mit/s]                                                       \n"
          ],
          "name": "stderr"
        }
      ]
    },
    {
      "cell_type": "markdown",
      "metadata": {
        "id": "N8KXuKWzQSsN",
        "colab_type": "text"
      },
      "source": [
        "## Mounting Google Drive\n",
        "\n",
        "The best way to get input text to-be-trained into the Colaboratory VM, and to get the trained model *out* of Colaboratory, is to route it through Google Drive *first*.\n",
        "\n",
        "Running this cell (which will only work in Colaboratory) will mount your personal Google Drive in the VM, which later cells can use to get data in/out. (it will ask for an auth code; that auth is not saved anywhere)"
      ]
    },
    {
      "cell_type": "code",
      "metadata": {
        "id": "puq4iC6vUAHc",
        "colab_type": "code",
        "outputId": "bf43df75-694d-4205-9d01-e6196cb1326a",
        "colab": {
          "base_uri": "https://localhost:8080/",
          "height": 122
        }
      },
      "source": [
        "# drive.mount(\"/content/drive\", force_remount=True)\n",
        "gpt2.mount_gdrive()"
      ],
      "execution_count": 0,
      "outputs": [
        {
          "output_type": "stream",
          "text": [
            "Go to this URL in a browser: https://accounts.google.com/o/oauth2/auth?client_id=947318989803-6bn6qk8qdgf4n4g3pfee6491hc0brc4i.apps.googleusercontent.com&redirect_uri=urn%3aietf%3awg%3aoauth%3a2.0%3aoob&response_type=code&scope=email%20https%3a%2f%2fwww.googleapis.com%2fauth%2fdocs.test%20https%3a%2f%2fwww.googleapis.com%2fauth%2fdrive%20https%3a%2f%2fwww.googleapis.com%2fauth%2fdrive.photos.readonly%20https%3a%2f%2fwww.googleapis.com%2fauth%2fpeopleapi.readonly\n",
            "\n",
            "Enter your authorization code:\n",
            "··········\n",
            "Mounted at /content/drive\n"
          ],
          "name": "stdout"
        }
      ]
    },
    {
      "cell_type": "markdown",
      "metadata": {
        "id": "BT__brhBCvJu",
        "colab_type": "text"
      },
      "source": [
        "## Uploading a Text File to be Trained to Colaboratory\n",
        "\n",
        "In the Colaboratory Notebook sidebar on the left of the screen, select *Files*. From there you can upload files:\n",
        "\n",
        "![alt text](https://i.imgur.com/TGcZT4h.png)\n",
        "\n",
        "Upload **any smaller text file**  (<10 MB) and update the file name in the cell below, then run the cell."
      ]
    },
    {
      "cell_type": "code",
      "metadata": {
        "id": "6OFnPCLADfll",
        "colab_type": "code",
        "colab": {}
      },
      "source": [
        "file_name = \"sample_data/fikipedia.txt\""
      ],
      "execution_count": 0,
      "outputs": []
    },
    {
      "cell_type": "markdown",
      "metadata": {
        "id": "HeeSKtNWUedE",
        "colab_type": "text"
      },
      "source": [
        "If your text file is larger than 10MB, it is recommended to upload that file to Google Drive first, then copy that file from Google Drive to the Colaboratory VM."
      ]
    },
    {
      "cell_type": "code",
      "metadata": {
        "id": "-Z6okFD8VKtS",
        "colab_type": "code",
        "outputId": "3ea2328e-400f-4580-b6c0-48406a064486",
        "colab": {
          "base_uri": "https://localhost:8080/",
          "height": 307
        }
      },
      "source": [
        "gpt2.copy_file_from_gdrive(file_name)"
      ],
      "execution_count": 0,
      "outputs": [
        {
          "output_type": "error",
          "ename": "FileNotFoundError",
          "evalue": "ignored",
          "traceback": [
            "\u001b[0;31m---------------------------------------------------------------------------\u001b[0m",
            "\u001b[0;31mFileNotFoundError\u001b[0m                         Traceback (most recent call last)",
            "\u001b[0;32m<ipython-input-6-0103766e8617>\u001b[0m in \u001b[0;36m<module>\u001b[0;34m()\u001b[0m\n\u001b[0;32m----> 1\u001b[0;31m \u001b[0mgpt2\u001b[0m\u001b[0;34m.\u001b[0m\u001b[0mcopy_file_from_gdrive\u001b[0m\u001b[0;34m(\u001b[0m\u001b[0mfile_name\u001b[0m\u001b[0;34m)\u001b[0m\u001b[0;34m\u001b[0m\u001b[0;34m\u001b[0m\u001b[0m\n\u001b[0m",
            "\u001b[0;32m/usr/local/lib/python3.6/dist-packages/gpt_2_simple/gpt_2.py\u001b[0m in \u001b[0;36mcopy_file_from_gdrive\u001b[0;34m(file_path)\u001b[0m\n\u001b[1;32m    611\u001b[0m     \u001b[0mis_mounted\u001b[0m\u001b[0;34m(\u001b[0m\u001b[0;34m)\u001b[0m\u001b[0;34m\u001b[0m\u001b[0;34m\u001b[0m\u001b[0m\n\u001b[1;32m    612\u001b[0m \u001b[0;34m\u001b[0m\u001b[0m\n\u001b[0;32m--> 613\u001b[0;31m     \u001b[0mshutil\u001b[0m\u001b[0;34m.\u001b[0m\u001b[0mcopyfile\u001b[0m\u001b[0;34m(\u001b[0m\u001b[0;34m\"/content/drive/My Drive/\"\u001b[0m \u001b[0;34m+\u001b[0m \u001b[0mfile_path\u001b[0m\u001b[0;34m,\u001b[0m \u001b[0mfile_path\u001b[0m\u001b[0;34m)\u001b[0m\u001b[0;34m\u001b[0m\u001b[0;34m\u001b[0m\u001b[0m\n\u001b[0m\u001b[1;32m    614\u001b[0m \u001b[0;34m\u001b[0m\u001b[0m\n\u001b[1;32m    615\u001b[0m \u001b[0;34m\u001b[0m\u001b[0m\n",
            "\u001b[0;32m/usr/lib/python3.6/shutil.py\u001b[0m in \u001b[0;36mcopyfile\u001b[0;34m(src, dst, follow_symlinks)\u001b[0m\n\u001b[1;32m    118\u001b[0m         \u001b[0mos\u001b[0m\u001b[0;34m.\u001b[0m\u001b[0msymlink\u001b[0m\u001b[0;34m(\u001b[0m\u001b[0mos\u001b[0m\u001b[0;34m.\u001b[0m\u001b[0mreadlink\u001b[0m\u001b[0;34m(\u001b[0m\u001b[0msrc\u001b[0m\u001b[0;34m)\u001b[0m\u001b[0;34m,\u001b[0m \u001b[0mdst\u001b[0m\u001b[0;34m)\u001b[0m\u001b[0;34m\u001b[0m\u001b[0;34m\u001b[0m\u001b[0m\n\u001b[1;32m    119\u001b[0m     \u001b[0;32melse\u001b[0m\u001b[0;34m:\u001b[0m\u001b[0;34m\u001b[0m\u001b[0;34m\u001b[0m\u001b[0m\n\u001b[0;32m--> 120\u001b[0;31m         \u001b[0;32mwith\u001b[0m \u001b[0mopen\u001b[0m\u001b[0;34m(\u001b[0m\u001b[0msrc\u001b[0m\u001b[0;34m,\u001b[0m \u001b[0;34m'rb'\u001b[0m\u001b[0;34m)\u001b[0m \u001b[0;32mas\u001b[0m \u001b[0mfsrc\u001b[0m\u001b[0;34m:\u001b[0m\u001b[0;34m\u001b[0m\u001b[0;34m\u001b[0m\u001b[0m\n\u001b[0m\u001b[1;32m    121\u001b[0m             \u001b[0;32mwith\u001b[0m \u001b[0mopen\u001b[0m\u001b[0;34m(\u001b[0m\u001b[0mdst\u001b[0m\u001b[0;34m,\u001b[0m \u001b[0;34m'wb'\u001b[0m\u001b[0;34m)\u001b[0m \u001b[0;32mas\u001b[0m \u001b[0mfdst\u001b[0m\u001b[0;34m:\u001b[0m\u001b[0;34m\u001b[0m\u001b[0;34m\u001b[0m\u001b[0m\n\u001b[1;32m    122\u001b[0m                 \u001b[0mcopyfileobj\u001b[0m\u001b[0;34m(\u001b[0m\u001b[0mfsrc\u001b[0m\u001b[0;34m,\u001b[0m \u001b[0mfdst\u001b[0m\u001b[0;34m)\u001b[0m\u001b[0;34m\u001b[0m\u001b[0;34m\u001b[0m\u001b[0m\n",
            "\u001b[0;31mFileNotFoundError\u001b[0m: [Errno 2] No such file or directory: '/content/drive/My Drive/sample_data/fikipedia.txt'"
          ]
        }
      ]
    },
    {
      "cell_type": "markdown",
      "metadata": {
        "id": "LdpZQXknFNY3",
        "colab_type": "text"
      },
      "source": [
        "## Finetune GPT-2\n",
        "\n",
        "The next cell will start the actual finetuning of GPT-2. It creates a persistent TensorFlow session which stores the training config, then runs the training for the specified number of `steps`. (to have the finetuning run indefinitely, set `steps = -1`)\n",
        "\n",
        "The model checkpoints will be saved in `/checkpoint/run1` by default. The checkpoints are saved every 500 steps (can be changed) and when the cell is stopped.\n",
        "\n",
        "The training might time out after 4ish hours; make sure you end training and save the results so you don't lose them!\n",
        "\n",
        "**IMPORTANT NOTE:** If you want to rerun this cell, **restart the VM first** (Runtime -> Restart Runtime). You will need to rerun imports but not recopy files.\n",
        "\n",
        "Other optional-but-helpful parameters for `gpt2.finetune`:\n",
        "\n",
        "\n",
        "*  **`restore_from`**: Set to `fresh` to start training from the base GPT-2, or set to `latest` to restart training from an existing checkpoint.\n",
        "* **`sample_every`**: Number of steps to print example output\n",
        "* **`print_every`**: Number of steps to print training progress.\n",
        "* **`learning_rate`**:  Learning rate for the training. (default `1e-4`, can lower to `1e-5` if you have <1MB input data)\n",
        "*  **`run_name`**: subfolder within `checkpoint` to save the model. This is useful if you want to work with multiple models (will also need to specify  `run_name` when loading the model)\n",
        "* **`overwrite`**: Set to `True` if you want to continue finetuning an existing model (w/ `restore_from='latest'`) without creating duplicate copies. "
      ]
    },
    {
      "cell_type": "code",
      "metadata": {
        "id": "V85Hrc-0ZS6H",
        "colab_type": "code",
        "outputId": "11445d06-2d29-47c3-d126-ad0516904814",
        "colab": {
          "base_uri": "https://localhost:8080/",
          "height": 54
        }
      },
      "source": [
        "from google.colab import drive\n",
        "drive.mount('/content/drive')"
      ],
      "execution_count": 0,
      "outputs": [
        {
          "output_type": "stream",
          "text": [
            "Drive already mounted at /content/drive; to attempt to forcibly remount, call drive.mount(\"/content/drive\", force_remount=True).\n"
          ],
          "name": "stdout"
        }
      ]
    },
    {
      "cell_type": "code",
      "metadata": {
        "id": "aeXshJM-Cuaf",
        "colab_type": "code",
        "outputId": "c4ee78c9-459c-41b3-c1db-712890d0a7eb",
        "colab": {
          "base_uri": "https://localhost:8080/",
          "height": 1000
        }
      },
      "source": [
        "sess = gpt2.start_tf_sess()\n",
        "\n",
        "gpt2.finetune(sess,\n",
        "              dataset=file_name,\n",
        "              model_name='124M',\n",
        "              steps=1000,\n",
        "              restore_from='fresh',\n",
        "              run_name='run1',\n",
        "              print_every=10,\n",
        "              sample_every=200,\n",
        "              save_every=500\n",
        "              )"
      ],
      "execution_count": 0,
      "outputs": [
        {
          "output_type": "stream",
          "text": [
            "WARNING:tensorflow:From /usr/local/lib/python3.6/dist-packages/gpt_2_simple/src/sample.py:17: where (from tensorflow.python.ops.array_ops) is deprecated and will be removed in a future version.\n",
            "Instructions for updating:\n",
            "Use tf.where in 2.0, which has the same broadcast rule as np.where\n",
            "Loading checkpoint models/124M/model.ckpt\n",
            "INFO:tensorflow:Restoring parameters from models/124M/model.ckpt\n"
          ],
          "name": "stdout"
        },
        {
          "output_type": "stream",
          "text": [
            "\r  0%|          | 0/1 [00:00<?, ?it/s]"
          ],
          "name": "stderr"
        },
        {
          "output_type": "stream",
          "text": [
            "Loading dataset...\n"
          ],
          "name": "stdout"
        },
        {
          "output_type": "stream",
          "text": [
            "\r100%|██████████| 1/1 [00:01<00:00,  1.27s/it]\n"
          ],
          "name": "stderr"
        },
        {
          "output_type": "stream",
          "text": [
            "dataset has 150810 tokens\n",
            "Training...\n",
            "[10 | 20.33] loss=3.13 avg=3.13\n",
            "[20 | 32.85] loss=2.90 avg=3.01\n",
            "[30 | 45.36] loss=2.78 avg=2.94\n",
            "[40 | 57.86] loss=2.79 avg=2.90\n",
            "[50 | 70.37] loss=2.80 avg=2.88\n",
            "[60 | 82.92] loss=2.56 avg=2.82\n",
            "[70 | 95.44] loss=2.39 avg=2.76\n",
            "[80 | 107.97] loss=2.63 avg=2.74\n",
            "[90 | 120.51] loss=2.61 avg=2.73\n",
            "[100 | 133.02] loss=2.12 avg=2.66\n",
            "[110 | 145.54] loss=1.99 avg=2.60\n",
            "[120 | 158.06] loss=2.40 avg=2.58\n",
            "[130 | 170.57] loss=2.17 avg=2.55\n",
            "[140 | 183.09] loss=1.90 avg=2.50\n",
            "[150 | 195.59] loss=1.70 avg=2.44\n",
            "[160 | 208.12] loss=1.55 avg=2.38\n",
            "[170 | 220.62] loss=1.52 avg=2.33\n",
            "[180 | 233.16] loss=1.41 avg=2.27\n",
            "[190 | 245.67] loss=1.65 avg=2.24\n",
            "[200 | 258.19] loss=1.40 avg=2.19\n",
            "======== SAMPLE 1 ========\n",
            " it on your kitchen counter for a quick snack or tea—and then put it on top of a pan of boiling water to soften it. Use a fork to grate flour and add it to the pan—this will thicken the pan and allow air to escape. If the flour and water continue to thicken after every use, a grate will pop up on top of the surface.\n",
            "@@@\n",
            "A railcar or a water-powered water roller is a common and relatively inexpensive transportation system designed to efficiently move water in a volume and pressure range. Many types of water roller are part of the Powerline Water System Operational Test and Evaluation (PREDOT), the National Transportation Safety Board (NTSB) recommended standards for electrification of water power lines by water, underpowered operation and corrosion prevention. In addition to standard water wheels such as those used in rail cars, recreational water roller riders are also known as kayakers.\n",
            "@@@\n",
            "A rose is a succulent plant that grows from the head to cover the mouth in seed. Its green or red coloration varies from shade to shade.  There are many varieties of rose and some do not give a seed coat.\n",
            "@@@\n",
            "Rhubarb is a herbaceous perennial herbaceous of the family Plesiaceae, a member of the genera Rheinichthyaceae and Rhodophyta. It is a legume herbaceous of the order Phocinae (the genus Rhodophyta) and a cereal herbaceous species of the family Phocinae, which also includes some cultivars of Triglavanus. Its leaves produce edible berries that are eaten as an end snack.[2] A group of common plants called rhubarbids have evolved a distinctive edible greenish purple coloration. The leaves are edible for their fibrous edible outer shell. Although many species are edible, most members of the genus Rhubarbidae are parasitic on lambs.\n",
            "@@@\n",
            "A rope is a loose mass of rope commonly used between tightly bound strands of fabric. In modern usage, modern rondeled rope is called \"roanings\" and \"single-band rondels\" as they can be used for various household and commercial purposes. Rondelling involves pulling together multiple pieces of rope at once, called cables or cord, which are then used to manufacture and sell essentially all kinds of rope and many styles of rope.\n",
            "@@@\n",
            "\n",
            "@@@\n",
            "Rulers are typically made of a set of four round, three ring, two round, two round, one ring, one round, one round, one round, one round. They may have decorative handles or may be flat or round. Rulers may have decorative handles or round their body. A round-climbed ladder is a great ladder for those less able to move their heads than a trestle, and for those able to move their heads to the top. Rulers are also used in traditional Chinese construction where the bricks are castings, and so on.[3][4] Rulers usually have a wide variety of heights so long as the lifters are able to move their heads above the top of the ladder. They may also be used as part of a weight room to raise the height of the wrestlers. In the case of rope, \"round and pound\" refers to the Olympic weight classes, while \"ruined and rotten reeds\" refers to the Australian bush walking program. See \"Trunks\" above for more about reeds and \"trunks\" in competitive edge lifting.\n",
            "@@@\n",
            "Rulers serve two main purposes: to provide a fastener for a lifter and to allow time for their feet to fully recover from falling rope before the action resumes. The taller the rope, the longer the lifter's feet; shorter and slimmer the lifter's feet, making it possible for the deck to fully outcompete the feet of the greater bulk. A good rule of thumb is that a vertical pull up to the top of the reed bar is four times as fast as a horizontal pull down to the bottom of the reed bar, whereas a horizontal pull down to the bottom of the reed bar is 10 times as fast as a vertical pull up to the top of the rope.\n",
            "@@@\n",
            "The first time a rope was used in a film was in \"The Girl On The Waterfront.\" \n",
            "@@@\n",
            "Rulers are typically made of a set of four round, three ring, two round, two round, one round, one round, one round. They may have decorative handles or round their body. A round-climbed ladder is a great ladder for those less able to move their heads than a trestle, and for those able to move their heads to the top. Rulers may have decorative handles or round their body. A round-climbed ladder is a great ladder for those less able to move their heads than a trestle, and for those able to move their heads to\n",
            "\n",
            "[210 | 281.96] loss=1.15 avg=2.14\n",
            "[220 | 294.50] loss=0.88 avg=2.07\n",
            "[230 | 307.05] loss=1.11 avg=2.03\n",
            "[240 | 319.56] loss=1.05 avg=1.98\n",
            "[250 | 332.10] loss=0.80 avg=1.93\n",
            "[260 | 344.57] loss=0.79 avg=1.88\n",
            "[270 | 357.06] loss=0.84 avg=1.83\n",
            "[280 | 369.57] loss=0.74 avg=1.79\n",
            "[290 | 382.11] loss=0.91 avg=1.75\n",
            "[300 | 394.63] loss=0.53 avg=1.71\n",
            "[310 | 407.13] loss=0.34 avg=1.66\n",
            "[320 | 419.61] loss=0.47 avg=1.61\n",
            "[330 | 432.12] loss=0.42 avg=1.57\n",
            "[340 | 444.63] loss=0.25 avg=1.53\n",
            "[350 | 457.14] loss=0.49 avg=1.49\n",
            "[360 | 469.65] loss=0.38 avg=1.45\n",
            "[370 | 482.15] loss=0.32 avg=1.42\n",
            "[380 | 494.67] loss=0.34 avg=1.38\n",
            "[390 | 507.21] loss=0.20 avg=1.35\n",
            "[400 | 519.72] loss=0.27 avg=1.31\n",
            "======== SAMPLE 1 ========\n",
            " lip.\n",
            "@@@\n",
            "Gingerbread dates from the 19th century, and was traditionally made with milk, honey, vanilla, and wheat flour.  It is most frequently used in a tart pan or filled tightly with bread, such as a bread or cream pie, to cover the lids of a garment or for wrapping.\n",
            "@@@\n",
            "In its primitive form, a gong has typically been one of a kind. During the Industrial Revolution it was used to amplify popular music, and in a less refined form is still used in Western instruments.\n",
            "@@@\n",
            "A gavel is a siege-engine or military siege weapon, in the variant of the Portuguese gamba bande blanche which replaced the drums in the previous version of the weapon. Gavels can also be found in the military Police or Dirty Soldiers groups of battalions. In France, four regiments of the 3rd Armoured Police formed part of the gamba bande blanche and entered into a peace treaty with the French military in 1750.[4] Gavels were used by the Royal Belgian Air Force (RIAF) from 1751 to 1760 and also by the Royal Dutch Guards. A typical gavel was in a broad left handed grip with a leathered goblet which could accommodate four blades. The right handed blade could be left handed or right handed depending on the use. Gavels were also used by the Austrian Empire and by the Scottish Highlands under William the Conqueror.\n",
            "@@@\n",
            "A gavel is a siege-engine gun, in the plural of gavel, used to silence, intimidate, or control, or cause alarm or alarm, a system of firing known as a gavel.  It is a British term for a turreted gun, gavel 2.\n",
            "@@@\n",
            "The gong is generally made of brass, or of a hard material such as cockerel, and may be of any shaped size and shape you like. Usually the bell is pushed in a specific way so that the sound of the horn impacts upon the hands and the gavel is usually armed with a single horn blanchet.  The size of the loudened note can range from small clarinets to the large harpies to very large pentatonic scales. If a gavel is used to silence a person speaking, or is used to cause tremor, the horn blanchet is sometimes repeated, although often massively.\n",
            "@@@\n",
            "The Greek word gorytis is Latin gorydos, which means \"gnat voice\". Related terms doacusian, gorygian, satanic, and satanicae, are ancient in origin. Although the gorytos is the only root of a continuous chain of sounds, the sound of the chain may be uneven or multi-dimensional, or it may be heard with individual notes. It is generally accepted that the gorytos derives its origin from the ancient Greek word καλύς, σμη βοῦττος, gorytos, \"sound of an eye\".[1]\n",
            "@@@\n",
            "Gourd is sometimes used to describe various other plant pests, particularly aphids. However, very small, hard-to-detect drops of venom could serve as defense agents.\n",
            "@@@\n",
            "Pigmentation is considered to be one of the basic morphological characteristics that distinguish the human skin from other animal pigments. However, other characteristics that differ among people include pigmentation and hairiness, the pigmentation of the dermal objects, the size of the pigmentation blot, the nature and severity of the irritation, the thickness of the pigment object and its dependence on natural pigments.\n",
            "@@@\n",
            "\n",
            "@@@\n",
            "Pigmentation is considered to be one of the basic morphological characteristics that distinguish the human skin from other animal pigments. However, very small, hard to isolate, and/or non-fluorescent pigments, such as gold or platinum, can make up a pigmentation component that is too small to be considered normal (this is especially true if the pigment is from a fungus or a bacteria)..\n",
            "@@@\n",
            "\n",
            "@@@\n",
            "While the development of chimneys in lakes is known from pre-European records, no homogenizations of lakes before about 7500 BCE have been found.  Early homogenizations were made by Old World European co-evolution, which also included homo sapiens coevolving with Neanderthals at around 8500 and 3200 BCE, and so on.\n",
            "@@@\n",
            "The development of chimneys in lakes is known from pre-European records, no homogenizations of lakes before about 7500 BCE have been found.  Early homogenizations were made by Old World European co-evolution, which also included homo sapiens coevolving with Neanderthals at around 8500 and 300 BCE, and so on.\n",
            "@@@\n",
            "\n",
            "@@@\n",
            "\n",
            "@@@\n",
            "\n",
            ".m\n",
            "\n",
            "[410 | 541.62] loss=0.28 avg=1.28\n",
            "[420 | 554.12] loss=0.30 avg=1.26\n",
            "[430 | 566.63] loss=0.21 avg=1.23\n",
            "[440 | 579.15] loss=0.31 avg=1.20\n",
            "[450 | 591.72] loss=0.17 avg=1.17\n",
            "[460 | 604.26] loss=0.14 avg=1.14\n",
            "[470 | 616.77] loss=0.17 avg=1.12\n",
            "[480 | 629.27] loss=0.16 avg=1.09\n",
            "[490 | 641.78] loss=0.13 avg=1.07\n",
            "[500 | 654.29] loss=0.22 avg=1.05\n",
            "Saving checkpoint/run1/model-500\n",
            "[510 | 669.43] loss=0.15 avg=1.02\n",
            "[520 | 681.94] loss=0.15 avg=1.00\n",
            "[530 | 694.44] loss=0.12 avg=0.98\n",
            "[540 | 706.93] loss=0.12 avg=0.96\n",
            "[550 | 719.44] loss=0.11 avg=0.94\n",
            "[560 | 731.95] loss=0.14 avg=0.92\n",
            "[570 | 744.46] loss=0.11 avg=0.90\n",
            "[580 | 756.96] loss=0.08 avg=0.88\n",
            "[590 | 769.46] loss=0.11 avg=0.87\n",
            "[600 | 781.97] loss=0.09 avg=0.85\n",
            "======== SAMPLE 1 ========\n",
            " pronunciation, \"french tongue\", may have originated in French, though the term fois in Germanic and Italianic has almost entirely replaced the word foisgrain in American English since then-pastime (pastime as a general term for greeting and greeting package terms in American English) has been singular \"fouches\" or \"fouches-frans\" (French: footpor, or \"French feet\").[3]\n",
            "@@@\n",
            "Paper clips are used to rappel and salvage, and are most often found in weather modification applications; however, other rappel types are also used in places such as commercial properties and rescue.\n",
            "@@@\n",
            "A Prato Model Dory, sometimes called a firehouse, is a three-story house that, in a décor-conscious setting, has been iconically stained glass-less and thus cannot be described as an annual tradition. It has been maintained historically, and may actually be the oldest documented example of modern frisbee use.[1] The firehouse is no longer in use in the United States, but several notable inventories exist, such as 1801, which contains examples dating back to the early 1800s.\n",
            "@@@\n",
            "For centuries, chandeliers and other colorful mantelpieces have been displaying imagery of love, from Barbados to Botswana, in the United States. However, the practice of candlelight candles being used for ceremony since the 16th century has been viewed as a pagan symbol in and of itself.[1]\n",
            "@@@\n",
            "For centuries, chandeliers and other colorful mantelpieces have been displaying imagery of love, from Barbados to Botswana, in the United States. However, the practice of candlelight candles being used for ceremony since the 16th century has been viewed as a pagan symbol in and of itself.[1]\n",
            "@@@\n",
            "Formerly, the term chalice was used to refer to a female relative of a minor. There were numerous more commoners before the 20th century, but today the term remains rare.\n",
            "@@@\n",
            "Chalk, as originally understood, was a classification system developed among mankind during the late Sino-European interregnum marking the one hundred and thirty-fifth anniversary of the invention of the road. The term today is used to refer particularly to the Chinese road system and its interiors, as well as to the tile-based art form of chalk paintings.\n",
            "@@@\n",
            "Ancient chalkboards with a wide enough margin for writing could have been made of durable plastic or ceramic material, or they could have been laminated. Modern chalkboards are often made of ceramic material but not clay (the clay equivalent of plaster), as is commonly used in many modern societies. The laminate on most chalkboards is painted black, although this is not considered real chalkiness.\n",
            "@@@\n",
            "As with most things related to architecture, mechanical support structures are rendered insubstantial by the load. They are often concrete structures bolted to a frame as an advice stone. Several such structures were destroyed by the German wall in Silesia in World War One, while another was taken down in World War Two. The church that is the world famous Calvary at the Cathedral of St. John the Evangelist is a part of St. John the Evangelist in Latin. The ADE architect David Bowler referred to some of the ADE concrete chalices as \"chalices\". \n",
            "@@@\n",
            "\n",
            "@@@\n",
            "The first practical success of a sustainable power plant during the Cold War came in the form of the Suez plant's first full-size boilers, launched from Vandenberg Air Force Base in California. Over several tenetical megachurch groups, the first ones opened provided alternative energy sources, but also added regulations regarding waste disposal and warfighting. The Suez Bonhomme Power Plant, a four-megawatt system that would become the world's largest battery at the end of 2016, received a composite B rank after it was evaluated by an independent review.[3]\n",
            "@@@\n",
            "The first self-contained water purifier (originally produced initially in the Ostfries famille, Germany, which produced water fountains alongside cars and industrial furnaces) was also produced in Germany, but was a step further than a water purifier. This was called a boiler and was a partnership between the German company DFG (later German Watermaking) and the design of the Ostfries familiar to industrial users was its heated wooden case. With a temperature of 200 °C (Hero Water Works, Berlin), these heated water purifiers were considered to be a very high-quality water heater. The name may even be related to the water heater itself, as in the Japanese termito (water heater).\n",
            "@@@\n",
            "The face is the part of the body that contains and preserves information. Each of us has a face to analyze and present information about ourselves. Some of us have the gift of eye contact to convey information and we are known for displaying true feelings about\n",
            "\n",
            "[610 | 803.95] loss=0.13 avg=0.83\n",
            "[620 | 816.43] loss=0.10 avg=0.82\n",
            "[630 | 828.94] loss=0.10 avg=0.80\n",
            "[640 | 841.43] loss=0.08 avg=0.79\n",
            "[650 | 853.93] loss=0.08 avg=0.77\n",
            "[660 | 866.45] loss=0.06 avg=0.76\n",
            "[670 | 878.95] loss=0.08 avg=0.75\n",
            "[680 | 891.43] loss=0.08 avg=0.73\n",
            "[690 | 903.93] loss=0.07 avg=0.72\n",
            "[700 | 916.43] loss=0.07 avg=0.71\n",
            "[710 | 928.97] loss=0.08 avg=0.69\n",
            "[720 | 941.46] loss=0.10 avg=0.68\n",
            "[730 | 953.94] loss=0.08 avg=0.67\n",
            "[740 | 966.43] loss=0.09 avg=0.66\n",
            "[750 | 978.91] loss=0.08 avg=0.65\n",
            "[760 | 991.45] loss=0.07 avg=0.64\n",
            "[770 | 1003.92] loss=0.07 avg=0.63\n",
            "[780 | 1016.44] loss=0.08 avg=0.62\n",
            "[790 | 1028.92] loss=0.07 avg=0.61\n",
            "[800 | 1041.44] loss=0.06 avg=0.60\n",
            "======== SAMPLE 1 ========\n",
            "ser, or \"mug\".[4][5]\n",
            "@@@\n",
            "Gumdrops are a ubiquitous appearance on a wide variety of occasions.[1] It may be used as an ingredient or flavoring a beverage, as baking powder, or sometimes, a smoothie.[2] Gums have been known to mineralize and transform minerals such as copper and silver in the earth's crust.[3][4] Terlingua canola oil is used as an oil in soil conditioners as well.\n",
            "@@@\n",
            "The head is the front of a head covering the entire head and usually covering the entire head or parts of several heads, called heads. Some species are also quite distinctive (the head covering is more or less the characteristic of the species).\n",
            "@@@\n",
            "There are various types of sacks or sacks with no head or head may be found in a supermarket, a waste facility, a post office or a shipping container. In some cases, heads may be patterned in insignia of the postal service.\n",
            "@@@\n",
            "Hedera, commonly called wheat, is a flowering plant in the virga Systema (Italian: Romagna) and a part of Germany and Austria, called Wheatium.[2] The name \"Hedera\" is also colloquially known as \"Guten\"; \"Henthel\" is the German pronunciation of \"horse-ding\", and \"ding\" is also the Germanic root of the genus Henthelbat.\n",
            "@@@\n",
            "The introduction of mesh dressings to the market in the 19th century provided a means of fabricating suitable mesh clothing: sheet music players, dresser, or stagecoach. In the 20th century, elastic mesh was becoming more popular, and the mesh dressing became more and more popular, too. In the same century, wicking was becoming more and more important, and it was increasingly difficult to prevent the arrival of rainy weather. In the 21st century, elastic mesh was becoming more absorbent and convenient, and it became less and less necessary to use gloves with it to wear dirty or uncomfortable clothes.\n",
            "@@@\n",
            "Garbage is usually placed in a dry place, such as a cup, jar, or box of clothing. It is not considered rubbish, as it is not collected or used for anything; waste products may be valuable (such as clothes or jewelry) or just useless (like paper, metal, or plastic). Garbage is commonly left to dry, but if it gets too wet it can eventually be unusable.\n",
            "@@@\n",
            "A headstone, tombstone, or gravestone is a stele or marker, usually prepared in stone and inset into marker pieces, with dedicated dates and official departments.  Officialities may be specific about a person, place, event, or person's ancestry.  For example, a city hall may be a direct descendant of a lord chancellor's predecessor, chieftain, or  may refer to a predecessor of a neighboring land, marl tomb. Originating in Spain, it has spread to other parts of Europe, and there are reports that it may have been used as a royal tomb in Assyria.[2]\n",
            "@@@\n",
            "The history of sack cooking goes back at least as far as the invention of the flintlocker. In the early 20th century, it was a worn-out old fashioned iron-edged weapon used to slice and dice meat. A bit of a novelty to say the least. Meat then going through a bit of a puddle is usually called a miso (miso is miso).In any event, the flintlocker was primarily used to tell time where the start of a shower was. \n",
            "@@@\n",
            "The sack could also refer to the sack, a sack that contains a human being, as it were a standard definition for a subsistence lifestyle. [1]\n",
            "@@@\n",
            "In British English, such material is known as a sack, and people commonly refer to their employers as 'skies'.\n",
            "@@@\n",
            "A soufflé is a baked eggless loin with a yeast-based crust. The word soufflé is often used to refer to eggless loin with a crust, and may refer to any other type of eggless loin.\n",
            "@@@\n",
            "The word soufflé comes from  French soufflé, from the Latin souffile, from Tudor French soufflé, and originated in the town of Puy-en-Houle in the French part of the Sous-Viel, sketching on linen or cloth. The word soufflé originally came from the Syrian  Qur'an and was suffixed to sul-sullām - 'blood-red'. (See Smaragdha papyri for evidence for this point.) The name sul comes from a Persian word for blood red, az-Zahirûm. Sullām is the name of the god of the sea, and is considered to be the most appropriate name for a\n",
            "\n",
            "[810 | 1063.24] loss=0.07 avg=0.59\n",
            "[820 | 1075.72] loss=0.08 avg=0.58\n",
            "[830 | 1088.21] loss=0.10 avg=0.57\n",
            "[840 | 1100.71] loss=0.07 avg=0.56\n",
            "[850 | 1113.24] loss=0.09 avg=0.55\n",
            "[860 | 1125.70] loss=0.06 avg=0.54\n",
            "[870 | 1138.18] loss=0.09 avg=0.54\n",
            "[880 | 1150.66] loss=0.06 avg=0.53\n",
            "[890 | 1163.18] loss=0.08 avg=0.52\n",
            "[900 | 1175.68] loss=0.07 avg=0.51\n",
            "[910 | 1188.16] loss=0.06 avg=0.51\n",
            "[920 | 1200.68] loss=0.06 avg=0.50\n",
            "[930 | 1213.16] loss=0.07 avg=0.49\n",
            "[940 | 1225.66] loss=0.05 avg=0.48\n",
            "[950 | 1238.20] loss=0.06 avg=0.48\n",
            "[960 | 1250.70] loss=0.06 avg=0.47\n",
            "[970 | 1263.19] loss=0.06 avg=0.46\n",
            "[980 | 1275.65] loss=0.05 avg=0.46\n",
            "[990 | 1288.16] loss=0.06 avg=0.45\n",
            "[1000 | 1300.68] loss=0.06 avg=0.44\n",
            "Saving checkpoint/run1/model-1000\n",
            "WARNING:tensorflow:From /usr/local/lib/python3.6/dist-packages/tensorflow_core/python/training/saver.py:963: remove_checkpoint (from tensorflow.python.training.checkpoint_management) is deprecated and will be removed in a future version.\n",
            "Instructions for updating:\n",
            "Use standard file APIs to delete files with this prefix.\n"
          ],
          "name": "stdout"
        }
      ]
    },
    {
      "cell_type": "markdown",
      "metadata": {
        "id": "IXSuTNERaw6K",
        "colab_type": "text"
      },
      "source": [
        "After the model is trained, you can copy the checkpoint folder to your own Google Drive.\n",
        "\n",
        "If you want to download it to your personal computer, it's strongly recommended you copy it there first, then download from Google Drive. The checkpoint folder is copied as a `.rar` compressed file; you can download it and uncompress it locally."
      ]
    },
    {
      "cell_type": "code",
      "metadata": {
        "id": "VHdTL8NDbAh3",
        "colab_type": "code",
        "colab": {}
      },
      "source": [
        "gpt2.copy_checkpoint_to_gdrive(run_name='run1')"
      ],
      "execution_count": 0,
      "outputs": []
    },
    {
      "cell_type": "markdown",
      "metadata": {
        "id": "qQJgV_b4bmzd",
        "colab_type": "text"
      },
      "source": [
        "You're done! Feel free to go to the **Generate Text From The Trained Model** section to generate text based on your retrained model."
      ]
    },
    {
      "cell_type": "markdown",
      "metadata": {
        "id": "pel-uBULXO2L",
        "colab_type": "text"
      },
      "source": [
        "## Load a Trained Model Checkpoint\n",
        "\n",
        "Running the next cell will copy the `.rar` checkpoint file from your Google Drive into the Colaboratory VM."
      ]
    },
    {
      "cell_type": "code",
      "metadata": {
        "id": "DCcx5u7sbPTD",
        "colab_type": "code",
        "colab": {}
      },
      "source": [
        "gpt2.copy_checkpoint_from_gdrive(run_name='run1')"
      ],
      "execution_count": 0,
      "outputs": []
    },
    {
      "cell_type": "markdown",
      "metadata": {
        "id": "RTa6zf3e_9gV",
        "colab_type": "text"
      },
      "source": [
        "The next cell will allow you to load the retrained model checkpoint + metadata necessary to generate text.\n",
        "\n",
        "**IMPORTANT NOTE:** If you want to rerun this cell, **restart the VM first** (Runtime -> Restart Runtime). You will need to rerun imports but not recopy files."
      ]
    },
    {
      "cell_type": "code",
      "metadata": {
        "id": "-fxL77nvAMAX",
        "colab_type": "code",
        "outputId": "c4374765-3e0f-47d9-802b-1be20ac1659b",
        "colab": {
          "base_uri": "https://localhost:8080/",
          "height": 51
        }
      },
      "source": [
        "sess = gpt2.start_tf_sess()\n",
        "gpt2.load_gpt2(sess, run_name='run1')"
      ],
      "execution_count": 4,
      "outputs": [
        {
          "output_type": "stream",
          "text": [
            "Loading checkpoint checkpoint/run1/model-1000\n",
            "INFO:tensorflow:Restoring parameters from checkpoint/run1/model-1000\n"
          ],
          "name": "stdout"
        }
      ]
    },
    {
      "cell_type": "markdown",
      "metadata": {
        "id": "ClJwpF_ACONp",
        "colab_type": "text"
      },
      "source": [
        "## Generate Text From The Trained Model\n",
        "\n",
        "After you've trained the model or loaded a retrained model from checkpoint, you can now generate text. `generate` generates a single text from the loaded model."
      ]
    },
    {
      "cell_type": "code",
      "metadata": {
        "id": "4RNY6RBI9LmL",
        "colab_type": "code",
        "outputId": "d7afed56-eda7-4d99-c657-f4a9dc0430d8",
        "colab": {
          "base_uri": "https://localhost:8080/",
          "height": 190
        }
      },
      "source": [
        "gpt2.generate(sess, run_name='run1', prefix='Caltech is', truncate='@@@', top_k=10, nsamples=3)"
      ],
      "execution_count": 12,
      "outputs": [
        {
          "output_type": "stream",
          "text": [
            "Caltech is the inventor of the Calibera screw, which he used to type his handwritten checks over the counter. Cali caixis, or \"crows feet\", are the high-pitched, hues of the night's events. \"Crows feet\" are usually identified by their distinctive black, red, or yellow wings, while \"crows feet\" are usually identified by their distinctive white or brown body form. The calico- or \"crows-down\" form of the footstock became popular during the 19th century as it was seen as acting as an object of ridicule and inferioration. The calico- or \"crows-down\" form of the footstock became popular during the 19th century as it was seen as acting as an object of ridicule and inferioration. Photo: Getty Images\n",
            "\n",
            "====================\n",
            "Caltech is a company that develops and markets high-strength optics for use in the use of telescopes. It acquired Optimum Equipment in 1975.[1]\n",
            "\n",
            "====================\n",
            "Caltech is a company that makes surveillance cameras that are installed within commercial, industrial, and residential buildings. They are usually powered by a central battery pack and run on a power day that coincides with the day on which the cameras are to be used, with a further power saving due to the addition of a second camera installed at a later date. Most cameras installed on residential premises are classified by their class status as \"proximity-sensitive\" alarms, meaning the cameras' video and audio can be decoded and recorded by any mobile phone or other recording device (such as MP4, WMA, AAC, etc.)\n",
            "\n",
            "====================\n"
          ],
          "name": "stdout"
        }
      ]
    },
    {
      "cell_type": "markdown",
      "metadata": {
        "id": "oF4-PqF0Fl7R",
        "colab_type": "text"
      },
      "source": [
        "If you're creating an API based on your model and need to pass the generated text elsewhere, you can do `text = gpt2.generate(sess, return_as_list=True)[0]`\n",
        "\n",
        "You can also pass in a `prefix` to the generate function to force the text to start with a given character sequence and generate text from there (good if you add an indicator when the text starts).\n",
        "\n",
        "You can also generate multiple texts at a time by specifing `nsamples`. Unique to GPT-2, you can pass a `batch_size` to generate multiple samples in parallel, giving a massive speedup (in Colaboratory, set a maximum of 20 for `batch_size`).\n",
        "\n",
        "Other optional-but-helpful parameters for `gpt2.generate` and friends:\n",
        "\n",
        "*  **`length`**: Number of tokens to generate (default 1023, the maximum)\n",
        "* **`temperature`**: The higher the temperature, the crazier the text (default 0.7, recommended to keep between 0.7 and 1.0)\n",
        "* **`top_k`**: Limits the generated guesses to the top *k* guesses (default 0 which disables the behavior; if the generated output is super crazy, you may want to set `top_k=40`)\n",
        "* **`top_p`**: Nucleus sampling: limits the generated guesses to a cumulative probability. (gets good results on a dataset with `top_p=0.9`)\n",
        "* **`truncate`**: Truncates the input text until a given sequence, excluding that sequence (e.g. if `truncate='<|endoftext|>'`, the returned text will include everything before the first `<|endoftext|>`). It may be useful to combine this with a smaller `length` if the input texts are short.\n",
        "*  **`include_prefix`**: If using `truncate` and `include_prefix=False`, the specified `prefix` will not be included in the returned text."
      ]
    },
    {
      "cell_type": "code",
      "metadata": {
        "id": "8DKMc0fiej4N",
        "colab_type": "code",
        "outputId": "526dbd1b-f076-4f47-a42b-058ab4a35b9f",
        "colab": {
          "base_uri": "https://localhost:8080/",
          "height": 1000
        }
      },
      "source": [
        "gpt2.generate(sess,\n",
        "              length=250,\n",
        "              temperature=0.7,\n",
        "              prefix=\"LORD\",\n",
        "              nsamples=5,\n",
        "              batch_size=5\n",
        "              )"
      ],
      "execution_count": 0,
      "outputs": [
        {
          "output_type": "stream",
          "text": [
            "LORD WILLOUGHBY:\n",
            "That, by the way, Clarence and I have done good side by side;\n",
            "And yet side we, and he side we have done ill.\n",
            "\n",
            "KING RICHARD II:\n",
            "Why then 'tis done ill. O, how should I ease it?\n",
            "Side with him and my brother, my sovereign!\n",
            "Side wither away, and as night falls,\n",
            "Like to the farthest morning to my last,\n",
            "Side wither away, and as morning comes,\n",
            "Like to the furthest afternoon to my last!\n",
            "Side wither away, and as our fortunes turn,\n",
            "Like to the furthest afternoon to our last!\n",
            "\n",
            "QUEEN MARGARET:\n",
            "What is this? counsel? counsel!\n",
            "\n",
            "KING RICHARD II:\n",
            "My queen and my heir, for half a mile and a half\n",
            "She will glide this way, to be or no.\n",
            "\n",
            "QUEEN MARGARET:\n",
            "So stands the orchard here, for half a mile and a!\n",
            "\n",
            "KING RICHARD II:\n",
            "So stands the orchard here, to fence it, to!\n",
            "Fashion it in her, like the hedgehog's net\n",
            "====================\n",
            "LORD STANLEY:\n",
            "What if I told you, in the hope of succor,\n",
            "That I had lain a little while in your arms?\n",
            "\n",
            "DUKE OF YORK:\n",
            "No doubt, my lord.\n",
            "\n",
            "QUEEN ELIZABETH:\n",
            "'Tis a pity I should be coil'd to\n",
            "Be brief and unanswerable. Yet give me this.\n",
            "\n",
            "EXTON:\n",
            "'Tis a truth that vexes me deeply\n",
            "To try whether thou, Lord Hastings, art moved\n",
            "To enter publicly with gentle discourse\n",
            "And thanks from his acknowledged friends.\n",
            "\n",
            "HASTINGS:\n",
            "My gracious lord,\n",
            "Suppose me this: did I so love to see the Tower?\n",
            "\n",
            "KING RICHARD II:\n",
            "I did so; but the duelling Tower, moved\n",
            "By jealousies to oppress me,\n",
            "Wretches to usurp him held most dear,\n",
            "The truth is, I loved the Tower as I loved\n",
            "The princes that envied their prosperity.\n",
            "\n",
            "HASTINGS:\n",
            "I loved innocently,\n",
            "When my princes did usurp their gains; when\n",
            "When my grandsire and my liege, prince and prince,\n",
            "B\n",
            "====================\n",
            "LORD WILLOUGHBY:\n",
            "How long shall it take? only\n",
            "To behold your father's bending in the duke's.\n",
            "How long shall it be? do you understand me?\n",
            "\n",
            "ROMEO:\n",
            "Your grace, I understand you.\n",
            "\n",
            "ROMEO:\n",
            "It must be so; then I'll excuse myself.\n",
            "\n",
            "ROMEO:\n",
            "It shall be so.\n",
            "\n",
            "FRIAR LAURENCE:\n",
            "Your nose is pleasant on myself.\n",
            "\n",
            "ROMEO:\n",
            "No need.\n",
            "\n",
            "FRIAR LAURENCE:\n",
            "My heart is troubled by strange thoughts.\n",
            "\n",
            "ROMEO:\n",
            "No need.\n",
            "\n",
            "FRIAR LAURENCE:\n",
            "My heart is troubled by strange thoughts.\n",
            "\n",
            "ROMEO:\n",
            "Prithee, be quiet; thou need'st it.\n",
            "\n",
            "FRIAR LAURENCE:\n",
            "My mind is unsettled; no need.\n",
            "\n",
            "ROMEO:\n",
            "Prithee, be quiet; thou need'st it.\n",
            "\n",
            "FRIAR LAURENCE:\n",
            "My mind is unsettled; no need.\n",
            "\n",
            "ROMEO:\n",
            "Prithee, be quiet; thou need'st it.\n",
            "\n",
            "FRIAR LA\n",
            "====================\n",
            "LORD WILLOUGHBY:\n",
            "And, if the right Edward were slain,\n",
            "My father's blood should wash the world from me.\n",
            "\n",
            "QUEEN MARGARET:\n",
            "O, let him fly from me, that he may live!\n",
            "\n",
            "PRINCE EDWARD:\n",
            "Arise, one last, and let him be slain ere he return.\n",
            "\n",
            "QUEEN MARGARET:\n",
            "I thank God I am not young nor old to waste.\n",
            "I am young and wooer than this young wooer was.\n",
            "\n",
            "YORK:\n",
            "Younger than young, and wooer than a man is.\n",
            "\n",
            "QUEEN MARGARET:\n",
            "What, wilt thou not kill her?\n",
            "\n",
            "RYBHUS:\n",
            "If thou darest, thou hast to do good deeds,\n",
            "If thou darest, thou darest not kill her, thou darest.\n",
            "\n",
            "PRINCE EDWARD:\n",
            "Where dost thou go? command Warwick to take her?\n",
            "\n",
            "WARWICK:\n",
            "Where leadess Warwick be that Warwick is woo'd.\n",
            "\n",
            "YORK:\n",
            "Where leadess Warwick be woo'd that noble York is.\n",
            "\n",
            "PRINCE\n",
            "====================\n",
            "LORD WILLOUGHBY:\n",
            "Let him please to come and sup with him?\n",
            "\n",
            "WARWICK:\n",
            "I promised he should come and sup with him.\n",
            "\n",
            "YORK:\n",
            "'Twas a vow of charity to vex him,\n",
            "And then he should vex us to come and sup.\n",
            "\n",
            "WARWICK:\n",
            "'Twas but a vow to come and sup with him.\n",
            "\n",
            "YORK:\n",
            "'Twas but a vow to come and sup with him.\n",
            "\n",
            "WARWICK:\n",
            "Come hither, slave boy.\n",
            "Me I come, you wretched hag, you wretched thing.\n",
            "\n",
            "DORCAS:\n",
            "'Tis very well. Come, go with me.\n",
            "\n",
            "WARWICK:\n",
            "I will be his slave, and make his bondage known.\n",
            "\n",
            "EXTON:\n",
            "So, you have resisted his bondage, you have run your errand too far.\n",
            "\n",
            "WESTMORELAND:\n",
            "O, but O, the slave that was past the year\n",
            "Doth not my errand a better errand?\n",
            "\n",
            "EXTON:\n",
            "No, for so my wits charge me thus too late.\n",
            "\n",
            "WARWICK:\n",
            "But\n",
            "====================\n"
          ],
          "name": "stdout"
        }
      ]
    },
    {
      "cell_type": "markdown",
      "metadata": {
        "id": "zjjEN2Tafhl2",
        "colab_type": "text"
      },
      "source": [
        "For bulk generation, you can generate a large amount of text to a file and sort out the samples locally on your computer. The next cell will generate a generated text file with a unique timestamp.\n",
        "\n",
        "You can rerun the cells as many times as you want for even more generated texts!"
      ]
    },
    {
      "cell_type": "code",
      "metadata": {
        "id": "Fa6p6arifSL0",
        "colab_type": "code",
        "colab": {}
      },
      "source": [
        "gen_file = 'gpt2_gentext_{:%Y%m%d_%H%M%S}.txt'.format(datetime.utcnow())\n",
        "\n",
        "gpt2.generate_to_file(sess,\n",
        "                      destination_path=gen_file,\n",
        "                      length=500,\n",
        "                      temperature=0.7,\n",
        "                      nsamples=100,\n",
        "                      batch_size=20\n",
        "                      )"
      ],
      "execution_count": 0,
      "outputs": []
    },
    {
      "cell_type": "code",
      "metadata": {
        "id": "0-LRex8lfv1g",
        "colab_type": "code",
        "colab": {}
      },
      "source": [
        "# may have to run twice to get file to download\n",
        "files.download(gen_file)"
      ],
      "execution_count": 0,
      "outputs": []
    },
    {
      "cell_type": "markdown",
      "metadata": {
        "id": "QQAN3M6RT7Kj",
        "colab_type": "text"
      },
      "source": [
        "## Generate Text From The Pretrained Model\n",
        "\n",
        "If you want to generate text from the pretrained model, not a finetuned model, pass `model_name` to `gpt2.load_gpt2()` and `gpt2.generate()`.\n",
        "\n",
        "This is currently the only way to generate text from the 774M or 1558M models with this notebook."
      ]
    },
    {
      "cell_type": "code",
      "metadata": {
        "id": "hsUd_jHgUZnD",
        "colab_type": "code",
        "outputId": "4e0c8a3f-3527-41c4-e3fe-3357f3f8f6c2",
        "colab": {
          "base_uri": "https://localhost:8080/",
          "height": 158
        }
      },
      "source": [
        "model_name = \"774M\"\n",
        "\n",
        "gpt2.download_gpt2(model_name=model_name)"
      ],
      "execution_count": 0,
      "outputs": [
        {
          "output_type": "stream",
          "text": [
            "Fetching checkpoint: 1.05Mit [00:00, 354Mit/s]                                                      \n",
            "Fetching encoder.json: 1.05Mit [00:00, 131Mit/s]                                                    \n",
            "Fetching hparams.json: 1.05Mit [00:00, 279Mit/s]                                                    \n",
            "Fetching model.ckpt.data-00000-of-00001: 3.10Git [00:23, 131Mit/s]                                  \n",
            "Fetching model.ckpt.index: 1.05Mit [00:00, 380Mit/s]                                                \n",
            "Fetching model.ckpt.meta: 2.10Mit [00:00, 226Mit/s]                                                 \n",
            "Fetching vocab.bpe: 1.05Mit [00:00, 199Mit/s]                                                       \n"
          ],
          "name": "stderr"
        }
      ]
    },
    {
      "cell_type": "code",
      "metadata": {
        "id": "BAe4NpKNUj2C",
        "colab_type": "code",
        "outputId": "b09bfe1d-2ff8-4b8a-fffb-273d28d5d4ae",
        "colab": {
          "base_uri": "https://localhost:8080/",
          "height": 124
        }
      },
      "source": [
        "sess = gpt2.start_tf_sess()\n",
        "\n",
        "gpt2.load_gpt2(sess, model_name=model_name)"
      ],
      "execution_count": 0,
      "outputs": [
        {
          "output_type": "stream",
          "text": [
            "WARNING: Logging before flag parsing goes to stderr.\n",
            "W0828 18:37:58.571830 139905369159552 deprecation.py:323] From /usr/local/lib/python3.6/dist-packages/tensorflow/python/training/saver.py:1276: checkpoint_exists (from tensorflow.python.training.checkpoint_management) is deprecated and will be removed in a future version.\n",
            "Instructions for updating:\n",
            "Use standard file APIs to check for files with this prefix.\n"
          ],
          "name": "stderr"
        },
        {
          "output_type": "stream",
          "text": [
            "Loading pretrained model models/774M/model.ckpt\n"
          ],
          "name": "stdout"
        }
      ]
    },
    {
      "cell_type": "code",
      "metadata": {
        "id": "-xInIZKaU104",
        "colab_type": "code",
        "outputId": "56348e28-7d08-45e3-c859-f26c0efd066d",
        "colab": {
          "base_uri": "https://localhost:8080/",
          "height": 797
        }
      },
      "source": [
        "gpt2.generate(sess,\n",
        "              model_name=model_name,\n",
        "              prefix=\"The secret of life is\",\n",
        "              length=100,\n",
        "              temperature=0.7,\n",
        "              top_p=0.9,\n",
        "              nsamples=5,\n",
        "              batch_size=5\n",
        "              )"
      ],
      "execution_count": 0,
      "outputs": [
        {
          "output_type": "stream",
          "text": [
            "The secret of life is that it's really easy to make it complicated,\" said Bill Nye, the host of the popular science show \"Bill Nye the Science Guy.\" \"And this is one of the reasons why we all need to be smarter about science, because we can't keep up with the amazing things that are going on all the time.\"\n",
            "\n",
            "While Nye is correct that \"everything that's going on all the time\" is making the world a better place, he misses the point. This is not\n",
            "====================\n",
            "The secret of life is in the rhythm of the universe. It's not a mystery. It's not a mystery to me. It's the nature of the universe. It's the beauty of the universe. It's the way the universe works. It's the way the universe is. It's the way the universe is going to work. It's the way the universe is. It's the way the universe is. It's the way the universe is. It's the way the universe is. It's the way\n",
            "====================\n",
            "The secret of life is in the universe.\n",
            "\n",
            "\n",
            "-\n",
            "\n",
            "The Red Devil\n",
            "\n",
            "It's the end of the world as we know it, and the only thing that can save us is a band of super-powered individuals known as the Red Devil.\n",
            "\n",
            "\n",
            "The Red Devil is a group of super-powered individuals who are seeking the secret of life and the only way they know how to do it is by taking on the roles of a variety of different super-powered individuals, each of which has their own\n",
            "====================\n",
            "The secret of life is in the mixing of the elements, and it is the mixing of the elements that makes life possible.\"\n",
            "\n",
            "But in the world of food science, the idea of a \"complex\" or \"complexity\" is almost entirely imaginary.\n",
            "\n",
            "As a scientist, I'm fascinated by the question of how life first began.\n",
            "\n",
            "It's the question that drives my work and the work of the scientists who work on it.\n",
            "\n",
            "My current research is exploring how microbes work in the first moments\n",
            "====================\n",
            "The secret of life is the journey of life, the search for the truth.\n",
            "\n",
            "4.4.2. The last thing you know\n",
            "\n",
            "There is nothing more important than the last thing you know.\n",
            "\n",
            "4.4.3. The little things that make all the difference\n",
            "\n",
            "The little things that make all the difference.\n",
            "\n",
            "4.4.4. The truth is the best teacher\n",
            "\n",
            "The truth is the best teacher.\n",
            "\n",
            "4.4.5. The truth is what\n",
            "====================\n"
          ],
          "name": "stdout"
        }
      ]
    },
    {
      "cell_type": "markdown",
      "metadata": {
        "id": "ig-KVgkCDCKD",
        "colab_type": "text"
      },
      "source": [
        "# Etcetera\n",
        "\n",
        "If the notebook has errors (e.g. GPU Sync Fail), force-kill the Colaboratory virtual machine and restart it with the command below:"
      ]
    },
    {
      "cell_type": "code",
      "metadata": {
        "id": "rIHiVP53FnsX",
        "colab_type": "code",
        "colab": {}
      },
      "source": [
        "!kill -9 -1"
      ],
      "execution_count": 0,
      "outputs": []
    },
    {
      "cell_type": "markdown",
      "metadata": {
        "id": "wmTXWNUygS5E",
        "colab_type": "text"
      },
      "source": [
        "# LICENSE\n",
        "\n",
        "MIT License\n",
        "\n",
        "Copyright (c) 2019 Max Woolf\n",
        "\n",
        "Permission is hereby granted, free of charge, to any person obtaining a copy\n",
        "of this software and associated documentation files (the \"Software\"), to deal\n",
        "in the Software without restriction, including without limitation the rights\n",
        "to use, copy, modify, merge, publish, distribute, sublicense, and/or sell\n",
        "copies of the Software, and to permit persons to whom the Software is\n",
        "furnished to do so, subject to the following conditions:\n",
        "\n",
        "The above copyright notice and this permission notice shall be included in all\n",
        "copies or substantial portions of the Software.\n",
        "\n",
        "THE SOFTWARE IS PROVIDED \"AS IS\", WITHOUT WARRANTY OF ANY KIND, EXPRESS OR\n",
        "IMPLIED, INCLUDING BUT NOT LIMITED TO THE WARRANTIES OF MERCHANTABILITY,\n",
        "FITNESS FOR A PARTICULAR PURPOSE AND NONINFRINGEMENT. IN NO EVENT SHALL THE\n",
        "AUTHORS OR COPYRIGHT HOLDERS BE LIABLE FOR ANY CLAIM, DAMAGES OR OTHER\n",
        "LIABILITY, WHETHER IN AN ACTION OF CONTRACT, TORT OR OTHERWISE, ARISING FROM,\n",
        "OUT OF OR IN CONNECTION WITH THE SOFTWARE OR THE USE OR OTHER DEALINGS IN THE\n",
        "SOFTWARE."
      ]
    }
  ]
}